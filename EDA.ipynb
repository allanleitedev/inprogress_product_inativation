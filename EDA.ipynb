{
 "cells": [
  {
   "cell_type": "code",
   "execution_count": 20,
   "id": "a6526ac7-ed90-4cdd-a3dd-51ac23a42c85",
   "metadata": {},
   "outputs": [],
   "source": [
    "import pandas as pd\n",
    "import seaborn as sns\n",
    "from matplotlib import pyplot as plt\n",
    "import utils"
   ]
  },
  {
   "cell_type": "code",
   "execution_count": 2,
   "id": "5601f661-ea0f-49a0-8fbb-cfb001ecb043",
   "metadata": {},
   "outputs": [],
   "source": [
    "engine = utils.pg_engine()\n",
    "query = utils.read_sql('query.sql')\n",
    "\n",
    "df = pd.read_sql(query, engine)"
   ]
  },
  {
   "cell_type": "code",
   "execution_count": 3,
   "id": "96d3fbe1-6862-49aa-9f23-6bd6221f62c1",
   "metadata": {},
   "outputs": [
    {
     "data": {
      "text/html": [
       "<div>\n",
       "<style scoped>\n",
       "    .dataframe tbody tr th:only-of-type {\n",
       "        vertical-align: middle;\n",
       "    }\n",
       "\n",
       "    .dataframe tbody tr th {\n",
       "        vertical-align: top;\n",
       "    }\n",
       "\n",
       "    .dataframe thead th {\n",
       "        text-align: right;\n",
       "    }\n",
       "</style>\n",
       "<table border=\"1\" class=\"dataframe\">\n",
       "  <thead>\n",
       "    <tr style=\"text-align: right;\">\n",
       "      <th></th>\n",
       "      <th>produto</th>\n",
       "      <th>pronome</th>\n",
       "      <th>att</th>\n",
       "      <th>op_aberta</th>\n",
       "    </tr>\n",
       "  </thead>\n",
       "  <tbody>\n",
       "    <tr>\n",
       "      <th>0</th>\n",
       "      <td>726.0359.OOO</td>\n",
       "      <td>TUBILINE ARA +LED 32W 4000K 1220MM NATURAL    ...</td>\n",
       "      <td>False</td>\n",
       "      <td>False</td>\n",
       "    </tr>\n",
       "    <tr>\n",
       "      <th>1</th>\n",
       "      <td>726.0538.ZOO</td>\n",
       "      <td>TUBILINE FROST PEND VERTICAL T8 5000K 1220MM C...</td>\n",
       "      <td>False</td>\n",
       "      <td>False</td>\n",
       "    </tr>\n",
       "    <tr>\n",
       "      <th>2</th>\n",
       "      <td>726.0735.ZOO</td>\n",
       "      <td>TUBILINE MINI SOB/ARA DEST 34+14° 16W 3000K 4M...</td>\n",
       "      <td>False</td>\n",
       "      <td>True</td>\n",
       "    </tr>\n",
       "    <tr>\n",
       "      <th>3</th>\n",
       "      <td>726.0759.ZOO</td>\n",
       "      <td>TUBLINE MINI SOB/ARA DEST 34ºX14º 24W 2700K 3M...</td>\n",
       "      <td>False</td>\n",
       "      <td>False</td>\n",
       "    </tr>\n",
       "    <tr>\n",
       "      <th>4</th>\n",
       "      <td>726.0741.AOO</td>\n",
       "      <td>TUBILINE SOB/ARA DF 24W 3000K 3MOD 220V DRV IN...</td>\n",
       "      <td>False</td>\n",
       "      <td>True</td>\n",
       "    </tr>\n",
       "  </tbody>\n",
       "</table>\n",
       "</div>"
      ],
      "text/plain": [
       "            produto                                            pronome    att  \\\n",
       "0  726.0359.OOO      TUBILINE ARA +LED 32W 4000K 1220MM NATURAL    ...  False   \n",
       "1  726.0538.ZOO      TUBILINE FROST PEND VERTICAL T8 5000K 1220MM C...  False   \n",
       "2  726.0735.ZOO      TUBILINE MINI SOB/ARA DEST 34+14° 16W 3000K 4M...  False   \n",
       "3  726.0759.ZOO      TUBLINE MINI SOB/ARA DEST 34ºX14º 24W 2700K 3M...  False   \n",
       "4  726.0741.AOO      TUBILINE SOB/ARA DF 24W 3000K 3MOD 220V DRV IN...  False   \n",
       "\n",
       "   op_aberta  \n",
       "0      False  \n",
       "1      False  \n",
       "2       True  \n",
       "3      False  \n",
       "4       True  "
      ]
     },
     "execution_count": 3,
     "metadata": {},
     "output_type": "execute_result"
    }
   ],
   "source": [
    "df.head()"
   ]
  },
  {
   "cell_type": "code",
   "execution_count": 10,
   "id": "d737c951-6810-4779-9b7c-8dd79f8b3b56",
   "metadata": {},
   "outputs": [
    {
     "name": "stdout",
     "output_type": "stream",
     "text": [
      "<class 'pandas.core.frame.DataFrame'>\n",
      "RangeIndex: 349 entries, 0 to 348\n",
      "Data columns (total 4 columns):\n",
      " #   Column     Non-Null Count  Dtype \n",
      "---  ------     --------------  ----- \n",
      " 0   produto    349 non-null    object\n",
      " 1   pronome    349 non-null    object\n",
      " 2   att        349 non-null    bool  \n",
      " 3   op_aberta  349 non-null    bool  \n",
      "dtypes: bool(2), object(2)\n",
      "memory usage: 6.3+ KB\n"
     ]
    }
   ],
   "source": [
    "df.info()"
   ]
  },
  {
   "cell_type": "code",
   "execution_count": 18,
   "id": "e7320db7-d267-4d36-b177-061caa9f3d83",
   "metadata": {},
   "outputs": [
    {
     "data": {
      "text/html": [
       "<div>\n",
       "<style scoped>\n",
       "    .dataframe tbody tr th:only-of-type {\n",
       "        vertical-align: middle;\n",
       "    }\n",
       "\n",
       "    .dataframe tbody tr th {\n",
       "        vertical-align: top;\n",
       "    }\n",
       "\n",
       "    .dataframe thead th {\n",
       "        text-align: right;\n",
       "    }\n",
       "</style>\n",
       "<table border=\"1\" class=\"dataframe\">\n",
       "  <thead>\n",
       "    <tr style=\"text-align: right;\">\n",
       "      <th></th>\n",
       "      <th>att</th>\n",
       "      <th>produto</th>\n",
       "      <th>pronome</th>\n",
       "      <th>op_aberta</th>\n",
       "    </tr>\n",
       "  </thead>\n",
       "  <tbody>\n",
       "    <tr>\n",
       "      <th>0</th>\n",
       "      <td>False</td>\n",
       "      <td>342</td>\n",
       "      <td>342</td>\n",
       "      <td>342</td>\n",
       "    </tr>\n",
       "    <tr>\n",
       "      <th>1</th>\n",
       "      <td>True</td>\n",
       "      <td>7</td>\n",
       "      <td>7</td>\n",
       "      <td>7</td>\n",
       "    </tr>\n",
       "  </tbody>\n",
       "</table>\n",
       "</div>"
      ],
      "text/plain": [
       "     att  produto  pronome  op_aberta\n",
       "0  False      342      342        342\n",
       "1   True        7        7          7"
      ]
     },
     "execution_count": 18,
     "metadata": {},
     "output_type": "execute_result"
    }
   ],
   "source": [
    "teste = df.groupby(['att']).count().reset_index()\n",
    "\n",
    "teste.head()"
   ]
  },
  {
   "cell_type": "code",
   "execution_count": null,
   "id": "10e5544d-b96e-4074-a771-2655ce7b24db",
   "metadata": {},
   "outputs": [],
   "source": []
  }
 ],
 "metadata": {
  "kernelspec": {
   "display_name": "Python [conda env:base] *",
   "language": "python",
   "name": "conda-base-py"
  },
  "language_info": {
   "codemirror_mode": {
    "name": "ipython",
    "version": 3
   },
   "file_extension": ".py",
   "mimetype": "text/x-python",
   "name": "python",
   "nbconvert_exporter": "python",
   "pygments_lexer": "ipython3",
   "version": "3.12.7"
  }
 },
 "nbformat": 4,
 "nbformat_minor": 5
}
