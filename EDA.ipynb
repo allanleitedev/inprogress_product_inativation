{
 "cells": [
  {
   "cell_type": "code",
   "execution_count": null,
   "id": "5601f661-ea0f-49a0-8fbb-cfb001ecb043",
   "metadata": {},
   "outputs": [],
   "source": [
    "import pandas as pd\n",
    "from utils import read_sql\n",
    "from sqlalchemy import create_engine"
   ]
  }
 ],
 "metadata": {
  "kernelspec": {
   "display_name": "Python [conda env:base] *",
   "language": "python",
   "name": "conda-base-py"
  },
  "language_info": {
   "codemirror_mode": {
    "name": "ipython",
    "version": 3
   },
   "file_extension": ".py",
   "mimetype": "text/x-python",
   "name": "python",
   "nbconvert_exporter": "python",
   "pygments_lexer": "ipython3",
   "version": "3.12.7"
  }
 },
 "nbformat": 4,
 "nbformat_minor": 5
}
